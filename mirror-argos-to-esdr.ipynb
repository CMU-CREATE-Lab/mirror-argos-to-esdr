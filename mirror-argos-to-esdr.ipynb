{
 "cells": [
  {
   "cell_type": "code",
   "execution_count": null,
   "metadata": {},
   "outputs": [],
   "source": [
    "# Boilerplate to load utils.ipynb\n",
    "# See https://github.com/CMU-CREATE-Lab/python-utils/blob/master/utils.ipynb\n",
    "\n",
    "import concurrent.futures, dateutil.tz, json, os, re, requests, subprocess, sys\n",
    "\n",
    "if not os.path.exists('python-utils'):\n",
    "    subprocess.check_output('git clone https://github.com/CMU-CREATE-Lab/python-utils.git', shell=True)\n",
    "\n",
    "def exec_ipynb(filename_or_url):\n",
    "    nb = (requests.get(filename_or_url).json() if re.match(r'https?:', filename_or_url) else json.load(open(filename_or_url)))\n",
    "    if(nb['nbformat'] >= 4):\n",
    "        src = [''.join(cell['source']) for cell in nb['cells'] if cell['cell_type'] == 'code']\n",
    "    else:\n",
    "        src = [''.join(cell['input']) for cell in nb['worksheets'][0]['cells'] if cell['cell_type'] == 'code']\n",
    "    exec('\\n'.join(src), globals())\n",
    "\n",
    "exec_ipynb('python-utils/utils.ipynb')\n",
    "exec_ipynb('python-utils/esdr-library.ipynb')\n",
    "\n",
    "# Wide display\n",
    "from IPython.core.display import display, HTML\n",
    "display(HTML(\"<style>#notebook-container { margin-left:-14px; width:calc(100% + 27px) !important; }</style>\"))"
   ]
  },
  {
   "cell_type": "code",
   "execution_count": null,
   "metadata": {},
   "outputs": [],
   "source": [
    "try:\n",
    "    import mysql.connector\n",
    "except:\n",
    "    subprocess_check('conda install -y mysql-connector-python', verbose=True)\n",
    "    import mysql.connector\n"
   ]
  },
  {
   "cell_type": "code",
   "execution_count": null,
   "metadata": {},
   "outputs": [],
   "source": [
    "# First time uploading, create a new client like so:\n",
    "\n",
    "# Esdr.save_client('esdr-auth-argos-uploader.json', 'Argos uploader')\n",
    "\n",
    "# and then follow the directions it prints, which include visiting esdr.cmucreatelab.org and creating\n",
    "# a client with given parameters, and also editing json to include your\n",
    "# username and password\n",
    "\n",
    "# Do not add esdr-auth-*.json to the git repo\n",
    "# !echo 'esdr-auth-*.json' >>.gitignore"
   ]
  },
  {
   "cell_type": "code",
   "execution_count": null,
   "metadata": {},
   "outputs": [],
   "source": [
    "esdr = Esdr('esdr-auth-argos-uploader.json')\n",
    "\n",
    "product = esdr.get_or_create_product('ArgosSpectrometer',\n",
    "                                     vendor='Argos',\n",
    "                                     description='Argos Open Path and Hound Air Spectrometers',\n",
    "                                     default_channel_specs={\n",
    "                                         'version':1,\n",
    "                                         'channels': {\n",
    "                                             'signal_strength': {\n",
    "                                                 'prettyName': 'Signal Strength'\n",
    "                                             },\n",
    "                                             'qa_complete': {\n",
    "                                                 'prettyName': 'QA complete'\n",
    "                                             },\n",
    "                                             'status': {\n",
    "                                                 'prettyName': 'Status'\n",
    "                                             },\n",
    "                                             'SO2': {\n",
    "                                                'prettyName': 'SO2 PPB',\n",
    "                                                'units': 'PPB'\n",
    "                                             },\n",
    "                                             'benzene': {\n",
    "                                                 'prettyName': 'Benzene PPB',\n",
    "                                                 'units': 'PPB'\n",
    "                                             },\n",
    "                                         }\n",
    "                                     })                           \n",
    "\n",
    "device = esdr.get_or_create_device(product, 'Glassport')\n",
    "\n",
    "feed = esdr.get_or_create_feed(device, 40.326009, -79.881742)"
   ]
  },
  {
   "cell_type": "code",
   "execution_count": null,
   "metadata": {},
   "outputs": [],
   "source": [
    "# Do not add argos-auth.json to the git repo\n",
    "#!echo 'argos-auth.json' >>.gitignore\n",
    "\n",
    "argos_auth = json.load(open('argos-auth.json'))\n",
    "\n",
    "integration_time = 5 * 60 # seconds\n",
    "\n",
    "mysql2esdr_colmap = {\n",
    "    'signalstrength': 'signal_strength',\n",
    "    'ben': 'benzene',\n",
    "    'so2': 'so2',\n",
    "    'status': 'status'\n",
    "}\n",
    "\n",
    "\n",
    "# Note that database timezone is Pacific Local, even though sensor is in Eastern Time Zone\n",
    "database_timezone = dateutil.tz.gettz('America/Los_Angeles') # Pacific local time (daylight savings observed in summer)"
   ]
  },
  {
   "cell_type": "code",
   "execution_count": null,
   "metadata": {},
   "outputs": [],
   "source": [
    "cnx = mysql.connector.connect(\n",
    "    host=argos_auth['hostname'],\n",
    "    user=argos_auth['username'],\n",
    "    password=argos_auth['password'],\n",
    "    database='argos'\n",
    ")\n",
    "\n",
    "cur = cnx.cursor(buffered=True)"
   ]
  },
  {
   "cell_type": "code",
   "execution_count": null,
   "metadata": {},
   "outputs": [],
   "source": [
    "# Returns end record\n",
    "def download_and_upload(start_record):\n",
    "    cur.execute('SELECT * FROM pittsburg ORDER BY sampledate LIMIT 100000 OFFSET %s;', (start_record,))\n",
    "\n",
    "    assert(cur.column_names[0] == 'sampledate')\n",
    "    assert(cur.column_names[1] == 'actualdate')\n",
    "\n",
    "    actual_sql_data_cols = sorted(cur.column_names[2:])\n",
    "    expected_sql_data_cols = sorted(mysql2esdr_colmap.keys())\n",
    "\n",
    "    if actual_sql_data_cols == expected_sql_data_cols:\n",
    "        print('Data columns: %s' % mysql2esdr_colmap)\n",
    "    else:\n",
    "        print('WARNING: Expected sql data columns %s but found %s' % (expected_sql_data_cols, actual_sql_data_cols))\n",
    "    \n",
    "    data = []\n",
    "\n",
    "    for sample in cur:\n",
    "        assert(cur.column_names[0] == 'sampledate')\n",
    "        sample_end_epochtime = sample[0].replace(tzinfo=database_timezone).timestamp()\n",
    "        sample_midpoint_epochtime = sample_end_epochtime - 0.5 * integration_time\n",
    "        sample_data = list(sample[2:])\n",
    "        data.append([sample_midpoint_epochtime] + sample_data)\n",
    "        \n",
    "    channel_names = [mysql2esdr_colmap[c] for c in cur.column_names[2:]]\n",
    "    esdr.upload(feed, {'channel_names': channel_names, 'data':data})\n",
    "\n",
    "    print('Starting at record %d, captured and uploaded %d samples of %d channels each, with last sample %d seconds ago' % (start_record, len(data), len(data[0])-1, time.time() - data[-1][0]))\n",
    "    return start_record + len(data)\n",
    "\n"
   ]
  },
  {
   "cell_type": "code",
   "execution_count": null,
   "metadata": {},
   "outputs": [],
   "source": [
    "end_record = 0\n",
    "\n",
    "while True:\n",
    "    end_record = download_and_upload(max(0, end_record - 500))\n",
    "    time.sleep(60 - (time.time() % 60))\n"
   ]
  }
 ],
 "metadata": {
  "kernelspec": {
   "display_name": "Python 3",
   "language": "python",
   "name": "python3"
  },
  "language_info": {
   "codemirror_mode": {
    "name": "ipython",
    "version": 3
   },
   "file_extension": ".py",
   "mimetype": "text/x-python",
   "name": "python",
   "nbconvert_exporter": "python",
   "pygments_lexer": "ipython3",
   "version": "3.7.1"
  }
 },
 "nbformat": 4,
 "nbformat_minor": 2
}
